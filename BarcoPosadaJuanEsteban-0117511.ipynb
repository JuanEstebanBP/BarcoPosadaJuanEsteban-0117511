{
 "cells": [
  {
   "cell_type": "code",
   "execution_count": null,
   "metadata": {},
   "outputs": [],
   "source": [
    "Ejercicio 1"
   ]
  },
  {
   "cell_type": "code",
   "execution_count": 7,
   "metadata": {},
   "outputs": [
    {
     "name": "stdout",
     "output_type": "stream",
     "text": [
      "Digite un número = -5\n",
      "El valor abosoluto de -5.0 es 5.0\n"
     ]
    }
   ],
   "source": [
    "#1. Sin utilizar el comando abs, escribir un programa que calcule e imprima el valor absoluto de cualquier número (sea entero o decimal).\n",
    "\n",
    "n = float(input('Digite un número = ')) #el usuario digita un número, luego ese valor se vuelve un numero flotante y es almacenado en la variable n\n",
    "if n >= 0: # si el numero digitado es mayor o igual a cero \n",
    "    print(f'El valor abosoluto de {n} es {n}') # se escribe en pantalla el mismo número\n",
    "else: \n",
    "  n = n * -1 # si el numero digitado es negativo este se multiplica por -1\n",
    "  print(f'El valor abosoluto de {-n} es {n}') # se escribe el valor del numero con valor absoluto"
   ]
  },
  {
   "cell_type": "code",
   "execution_count": null,
   "metadata": {},
   "outputs": [],
   "source": [
    "Ejercicio 2"
   ]
  },
  {
   "cell_type": "code",
   "execution_count": 9,
   "metadata": {},
   "outputs": [
    {
     "name": "stdout",
     "output_type": "stream",
     "text": [
      "Digite un número entero= -123456\n",
      "El número en reversa es:\n",
      "-654321"
     ]
    }
   ],
   "source": [
    "#2. Leer un número entero y escribirlo en reversa. Por ejemplo, 461975 será 579164. No utilizar comandos de ordenamiento.\n",
    "\n",
    "lista = [] # Esta lista va a contener los digitos en reversa del número ingresado\n",
    "n = int(input('Digite un número entero= ')) #se solicita ingresar un número entero, con input este ingresa como cadena, y con int lo paso a entero\n",
    "bandera = True #Una variable que va a servir para cerrar el ciclo while de abajo\n",
    "if n >= 0: #Si el número ingresado es positivo o cero hace la siguiente acción\n",
    "    while bandera == True: #Se va a entrar al ciclo mientras esta variable sea igual a True\n",
    "        lista.append(n%10)#Se saca el residuo de la division del número ingresado entre 10, luego este se almacena en 'lista'. El residuo de la division de un numero entero entre 10 es igual al último digito. Como n%10 me da el último digito, entonces en la variable lista van a quedar guardados los digitos de n pero en reversa\n",
    "        n = n//10 #Se realiza la division entera del número ingresado entre 10, lo que hace esto es quitar el último digito de n, el cual ya se guardó en la variable lista\n",
    "        if n == 0:#El proceso se repite hasta que al npumero ingresado no le queden más dígitos, es decir cuando el valor de n sea cero\n",
    "            bandera = False #Cuando ya todos los digitos de n hayan sido guardados en la variable lista, se cambia el valor de la variable bandera por False para que ya no se entre mas al ciclo while\n",
    "    print('El número en reversa es:')#Se saca en pantalla este texto y abajo de él va a ir el número en reversa\n",
    "    for i in lista: #La variable i va a tomar cada uno de los valores de la variable lista, la cual contiene los digitos de n pero en reversa\n",
    "        print(i,end='') #Se saca en pantalla los valores que va tomando i en una sola linea       \n",
    "else: #si el número ingresado es negativo\n",
    "    n *= -1 #se convierte el número en positivo\n",
    "    while bandera == True: #se realiza el mismo ciclo de arriba\n",
    "        lista.append(n%10)\n",
    "        n = n//10\n",
    "        if n == 0:\n",
    "            bandera = False\n",
    "    lista.insert(0,'-') #Como el número ingresado fue negativo, y al principio se le quitó el menos, aquí se le vuelve a agregar\n",
    "    print('El número en reversa es:') #Se saca en pantalla este texto y abajo de él va a ir el número en reversa, que ya inclue el signo menos\n",
    "    for i in lista: #La variable i va a tomar cada uno de los valores de la variable lista, la cual contiene los digitos de n pero en reversa\n",
    "        print(i,end='') #Se saca en pantalla los valores que va tomando i en una sola linea\n",
    "    "
   ]
  },
  {
   "cell_type": "code",
   "execution_count": null,
   "metadata": {},
   "outputs": [],
   "source": [
    "Ejercicio 3"
   ]
  },
  {
   "cell_type": "code",
   "execution_count": 13,
   "metadata": {},
   "outputs": [
    {
     "name": "stdout",
     "output_type": "stream",
     "text": [
      "Digite un número entero de 3 dígitos= 859\n",
      "El número contiene al 8\n"
     ]
    }
   ],
   "source": [
    "#3.Leer un número entero de 3 dígitos y determinar si contiene el dígito 8.\n",
    "n = list(str(int(float(input('Digite un número entero de 3 dígitos= '))))) #Para resolver el error que dan numeros como 12., primero convierte a flotante, luego a entero, luego a cadena y por ultimo a lista\n",
    "if len(n)==3 or n[0]=='-': #si la lista tiene longitud 3, que es lo mismo que decir que el numero tenga 3 digitos, se realiza la accion, pero si el numero tiene un menos se debe agregar la condicion de que en la primera posicion de la lista este el menos\n",
    "    a = [i == '8' for i in n] #se crea una lista que contiene como elementos a True o False, si un digito del numero dado es igual a 8, se agregará True sino se agregará False\n",
    "    if any(a): # si en la lista a hay alemos un True se realiza la acción\n",
    "        print('El número contiene al 8')\n",
    "    else: # si en la lista a no hay True se realiza la acción\n",
    "        print('El número no contiene al 8')\n",
    "else: # si el numero dado no tiene 3 digitos se realiza la acción\n",
    "    print('Sólo digitar números de 3 dígitos')"
   ]
  },
  {
   "cell_type": "code",
   "execution_count": 11,
   "metadata": {},
   "outputs": [
    {
     "ename": "SyntaxError",
     "evalue": "invalid syntax (<ipython-input-11-ed589429a6c6>, line 1)",
     "output_type": "error",
     "traceback": [
      "\u001b[1;36m  File \u001b[1;32m\"<ipython-input-11-ed589429a6c6>\"\u001b[1;36m, line \u001b[1;32m1\u001b[0m\n\u001b[1;33m    Ejercicio 4\u001b[0m\n\u001b[1;37m              ^\u001b[0m\n\u001b[1;31mSyntaxError\u001b[0m\u001b[1;31m:\u001b[0m invalid syntax\n"
     ]
    }
   ],
   "source": [
    "Ejercicio 4"
   ]
  },
  {
   "cell_type": "code",
   "execution_count": 17,
   "metadata": {},
   "outputs": [
    {
     "name": "stdout",
     "output_type": "stream",
     "text": [
      "Digite un número entero positivo= 123456789\n",
      "La suma de los digitos pares de 123456789 es 20\n"
     ]
    }
   ],
   "source": [
    "#4.Leer un número entero positivo y determinar la suma de sus dígitos pares. Por ejemplo, en el número 124, los dígitos pares son el 2 y el 4 y su suma vale 6\n",
    "\n",
    "p = [] #Lista vacia que va a contener los digitos del número ingresado, pero cada digito como una cadena\n",
    "b = [] #Lista vacia que va a contener los digitos del número ingresado ya como números\n",
    "s = 0 # Una variable que incia en cero que va a servir para hacer la suma de los digitos del número ingresado\n",
    "w = input('Digite un número entero positivo= ') # Se pide al usuario ingresar un número entero positivo\n",
    "n = list(w) #Cada dígito del número ingresado se convierte en un elemento de la lista n\n",
    "if n[0] != '-': #Si en la primera posicion de la lista no hay un signo menos, es porque el número ingresado es positivo y se realiza la accion de abajo\n",
    "    for i in n: #la variable i va a tomar cada uno de los valores de n\n",
    "        if int(i)%2 == 0: #se convierte el valor que toma i en un entero, dado que los elementos de la lista n son números pero guardados como cadenas.Luego se saca el residuo de la división de int(i) entre 2, si este da cero es porque el número es par, sino es impar\n",
    "            p.append(i) #Si int(i), que es un digito del número ingresado, es par se almacena en la lista p\n",
    "    for i in p: # la variable i va a tomar los valores de los elementos en la lista p, la cual contiene los digitos pares del número ingresado pero como un dato tipo cadena\n",
    "        b.append(int(i)) #se convierten los elementos de la lista p a datos tipo entero y se almacenan en la lista b\n",
    "    for i in b: #la variable i va a tomar el valor de cada elemento en la lista b. La lista b contiene los digitos pares del número ingresado ya como datos tipo entero\n",
    "         s+=i #Se van sumando todos los valores que va tomando i, lo que da como resultado la suma de los digitos pares del número ingresado\n",
    "    print(f'La suma de los digitos pares de {w} es {s}') #Se utiliza f para indicar que se copie todo el texto entre comillas, y que muestre el valor de las variables entre {}\n",
    "else: # si el número ingresado es negativo\n",
    "    print('Sólo digita un número entero positivo') #se digita el texto en pantalla"
   ]
  },
  {
   "cell_type": "code",
   "execution_count": null,
   "metadata": {},
   "outputs": [],
   "source": [
    "Ejercicio 5"
   ]
  },
  {
   "cell_type": "code",
   "execution_count": 18,
   "metadata": {},
   "outputs": [
    {
     "name": "stdout",
     "output_type": "stream",
     "text": [
      "Digitar un número entero= 551235551251855\n",
      "La cantidad de 5 repetidos es :  7\n"
     ]
    }
   ],
   "source": [
    "#5.Leer un número entero y determinar el número de cincos que están consecutivos en un número. Por ejemplo, en 5512355551 hay 6 cincos consecutivos. Ahora, en 234555234512 solo hay 3 cincos consecutivos.\n",
    "\n",
    "lista = [] #lista vacia que va a contener los digitos del número ingresado\n",
    "n = abs(int(input('Digitar un número entero= ')))#se pide digitar un número, este entra como una canena, luego con int se pasa a un dato entero, y como solo me piden identificar el número de cincos consecutivos, no interesa que el número sea negativo o positivo, por eso le saco valor absoluto\n",
    "bandera=True #Una variable que va a servir para terminar el ciclo while de abajo\n",
    "contador=0 #Una variable que va a servir como contador, y va a tener el número de cincos consecutivos\n",
    "while  bandera == True:#mientras la variable bandera sea True se entra al ciclo\n",
    "    lista.append(n%10) #Se le saca el residuo de la division del número ingresado n, entre 10, con esto saco el último dígito de n y lo almaceno en la variable lista, esto se repite cada vez que se entre al ciclo, al final lista va a tener los digitos de n pero al reves\n",
    "    n=n//10 #Se realiza la division entera de n entre 10, lo que quita el último dígito de n, el cual ya fue almacenado en la variable lista\n",
    "    if  n==0: #si n es igual a cero, es porque se acabaron los dígitos de n\n",
    "        bandera =False #Cuando ya se tengan todos los digitos de n almacenados en la variable lista, se cambia la variable bandera por Falso para que ya no se entre al ciclo\n",
    "aux=0 #Una variable auxiliar que incia en cero, la cual va a servir para dar la posición de los elementos en la variable lista\n",
    "bandera=True #Una variable que sirve para que si es la primera vez que se encuantra una serie con cicos, se le agregue un 1 a la variable contador. Por ejemplo en el número 123555 cuando se pase de 3 a 5, y se analice el siguiente dígito es necesario sumar 1 al contador por el 5 que está al lado del 3(Para esto sirve la variable bandera), y como el siguiente dígito también es cinco se le va a sumar 1 al contador otra vez \n",
    "while  aux<len(lista):#Mientras aux sea menor a la longitud de lista, se entra al cilo, esto para evitar buscar en la variable lista en una posición que no existe   \n",
    "    if  lista[aux]==5:#Se empieza a buscar en la variable lista con la ayuda de aux que indica la posicion. Si se encuentra que el elemento en la posición aux es igual a 5 entonces se hace lo de abajo\n",
    "        aux2=aux+1   #la variable auxiliar aux2 va a ser un número mayor que aux, esto va a servir para comparar el elemento en la posición aux, con el que sigue, que va a estar en la posición aux2    \n",
    "        if aux2<len(lista): #si el valor de aux2 es menor a la longitud de la lista se hace lo de abajo, esto para evitar buscar algo en la variable lista en una posicion que no existe     \n",
    "            if lista[aux2]==5: #Si el siguiente elemento que se encontró en la variable lista, también es un cinco entonces se hace lo de abajo\n",
    "                if bandera==True: #si la variable bandera es igual a verdadero se realiza lo de abajo. Es if sirve para saber si se comenzó una serie de cincos consecutivos, esto me va a permitir sumarle o no 1 a la variable contador. si no se comenzó una serie de cincos consecutivos, o ya había comenzado no se entra a este if\n",
    "                    contador+=1 #como se comenzó una serie de cincos es necesario sumarle 1 al contador por el primer cinco de la serie, ya que si no se hace, no se estarían contando todos los cincos en secuencia. Por ejemplo en el número 1234555, sin no estuviera esto la variable contador sería igual a 2, ya que no me estaría contando el 5 al lado del 4\n",
    "                    bandera=False #como es ya se comienza una serie de cincos consecutivos, es necesario aclarar que ya se comenzó, para ello se vuelve la variable bandera igual a False, con esto no entra al if de arriba, porque ya se comenzó una serie de cincos consecutivos\n",
    "                contador+=1 #Como en la posicion aux hay un cinco, y en la poscicion aux2 también, se le suma 1 al contador por el cinco de la posicion aux2. \n",
    "            else: #si el número en la posició aux2 no es un cinco\n",
    "                bandera=True #como el número en la posición aux2 no era un 5, entonces ya se sale de la serie de cincos consecutivos, pero puede que haya más series con cincos consecutivos en la variable lista, por esto se bandera = True, para que pueda entrar de nuevo en el if de arriba, si se comienza otra serie de cincos consecutivos  \n",
    "    aux+=1  #la última orden del ciclo es aumentar 1 a la variable aux, con esto al volver a iniciar el ciclo se busca el elemento de la variable lista en la siguiente posición\n",
    "print (\"La cantidad de 5 repetidos es : \" ,contador) #Se muestra el valor de la variable contador que tiene la cantidad de cincos consecutivos\n",
    "     "
   ]
  },
  {
   "cell_type": "code",
   "execution_count": null,
   "metadata": {},
   "outputs": [],
   "source": [
    "Ejercicio 6"
   ]
  },
  {
   "cell_type": "code",
   "execution_count": 20,
   "metadata": {},
   "outputs": [
    {
     "name": "stdout",
     "output_type": "stream",
     "text": [
      "Digite un número entero= 210\n",
      "La suma de los dígitos de 210 es 3\n",
      "La suma de los dígitos de 210 es un número Fibonacci\n"
     ]
    }
   ],
   "source": [
    "#6.Leer un número entero y determinar si la suma de sus dígitos es un número de Fibonacci.\n",
    "m = []\n",
    "f = []\n",
    "s = 0\n",
    "w = input('Digite un número entero= ') #se digita un numero, que es tomado como una cadena, y se guarda en w\n",
    "n =list(w) # se transforma el w a una lista\n",
    "if n[0] == '-': # si el numero que digitaron tiene -, es decir que es negativo\n",
    "    n.remove('-')# se quita el negativo\n",
    "for i in n: #se itera en la lista n\n",
    "    o = int(i) #se convierte cada valor de la lista n en un numero, ya que hasta el momento los digitos del número ingresado con cadenas\n",
    "    m.append(o) #Se guardan los digitos del numero ingresado ya como numeros(int) en una lista m\n",
    "for numero in m: #se itera en la lista m\n",
    "    s += numero #se hace la suma de los digitos del numero ingresados con ayuda de la variable s que al inicio se le dio el valor de 0\n",
    "print(f'La suma de los dígitos de {w} es {s}') # Se utliza f.string para que se muestre el texto y el contenido de las variables que esten dentro de las llaves\n",
    "a=0\n",
    "b=1\n",
    "while a<= s: #Se comienza a hacer la serie de Fibonacci, \n",
    "    f.append(a) #se va agregando el valor que tome 'a', ya que este va a tomar los valores de la serie\n",
    "    a,b = b,a+b #en cada ciclo se hace a=b y b=a+b\n",
    "if s in f: # si la suma de los digitos del numero ingresado está en la lista f que contiene la serie de Fibonacci, entonces se realiza la siguiente accion\n",
    "    print(f'La suma de los dígitos de {w} es un número Fibonacci')\n",
    "else: # sino se realiza la siguiente accion\n",
    "    print(f'La suma de los dígitos de {w} no es un número Fibonacci')"
   ]
  },
  {
   "cell_type": "code",
   "execution_count": null,
   "metadata": {},
   "outputs": [],
   "source": [
    "Ejercicio 7"
   ]
  },
  {
   "cell_type": "code",
   "execution_count": 46,
   "metadata": {},
   "outputs": [
    {
     "name": "stdout",
     "output_type": "stream",
     "text": [
      "Digite un número entero positivo= 12245571123\n",
      "El vector tiene dígitos repetidos ['1', '2', '5'] \n"
     ]
    }
   ],
   "source": [
    "#7.Leer un número entero positivo y determine si existen en el número dígitos repetidos. Reporte cuales son los dígitos repetidos.\n",
    "w = input('Digite un número entero positivo= ') #se captura el valor ingresado\n",
    "n = list(w) #se transforma ese valor en una lista\n",
    "respuesta=[] #es una lista vacia que va a almacenar la respuesta final\n",
    "aux=\"no\" #Esta es una variable de control que se utiliza para saber si un numero ya esta agregado en la lista de la respuesta\n",
    "x=0 #variable para controlar el ciclo\n",
    "while x<len(n): #ciclo que va desde cero hasta la longitud de la lista n\n",
    "    num=n[x] #número que está en la posicicon x de la lista\n",
    "    y=0 #variable para controlar el ciclo\n",
    "    while y<len(respuesta): #ciclo que va desde cero hasta la longitud de la lista respuesta\n",
    "        if num==respuesta[y]: #pregunta si el número ya está almacenado en la respuesta\n",
    "            aux=\"si\" \n",
    "        y+=1    \n",
    "    if aux==\"no\": #pregunta si no está agregado en la respuesta\n",
    "        y=x+1   #variable para el control del ciclo. Empieza en la posicion x+1\n",
    "        while y<len(n): #ciclo que va desde y hasta la longitud de la lista n            \n",
    "            if num==n[y]:#pregunta si el numero esta repetido dentro de la cadena de digitos n\n",
    "                respuesta.append(num) #si está entonces se agrega a respuesta\n",
    "                y=len(n) #se cambia el valor de y para finalizar el ciclo\n",
    "            y+=1   #se va aumentando en uno el valor de y \n",
    "    x+=1 #se va aumentando en uno el valor de x\n",
    "    aux=\"no\" #se cambia el estado de la variable de control para analizar el siguiente numero\n",
    "if len(respuesta) == 0: #se pregunta si no hay elementos en la lista respuesta\n",
    "    print(f'El número {w} no tiene dígitos repetidos') \n",
    "else:\n",
    "    print(f'El vector tiene dígitos repetidos {respuesta} ')"
   ]
  },
  {
   "cell_type": "code",
   "execution_count": 41,
   "metadata": {},
   "outputs": [
    {
     "ename": "SyntaxError",
     "evalue": "invalid syntax (<ipython-input-41-cff09f0ccb02>, line 1)",
     "output_type": "error",
     "traceback": [
      "\u001b[1;36m  File \u001b[1;32m\"<ipython-input-41-cff09f0ccb02>\"\u001b[1;36m, line \u001b[1;32m1\u001b[0m\n\u001b[1;33m    Ejercicio 8\u001b[0m\n\u001b[1;37m              ^\u001b[0m\n\u001b[1;31mSyntaxError\u001b[0m\u001b[1;31m:\u001b[0m invalid syntax\n"
     ]
    }
   ],
   "source": [
    "Ejercicio 8"
   ]
  },
  {
   "cell_type": "code",
   "execution_count": 23,
   "metadata": {},
   "outputs": [
    {
     "name": "stdout",
     "output_type": "stream",
     "text": [
      "Los múltiplos de 3 son [3, 6, 9, 12, 15, 18, 21, 24, 27, 30, 33, 36, 39, 42, 45] y los múltiplos de 4 son [48, 52, 56, 60, 64, 68, 72, 76, 80, 84, 88, 92, 96, 100]\n"
     ]
    }
   ],
   "source": [
    "#8. Iterar a través de los primeros cien enteros positivos, buscando los múltiplos de 3 e imprimiendo y almacenándolos en una lista hasta encontrar los primeros 15 de ellos. Una vez encontrados, continuar iterando en busca de los múltiplos de 4 y almacenarlos en otra lista.\n",
    "c = 0 #variable que sirve como contador para salir del ciclos for despues de haber hallado los 15 multiplos de 3\n",
    "M3 = [] #Lista vacia que va a guarda los multiplos de 3\n",
    "M4 = [] # lista vacia que va a guardar los multiplos de 4\n",
    "for i in range(1,101): #se iteran los primeros 100 enteros positivos, por eso empieza en 1, y se coloca 101 porque en range no toma el ultimo numero sino hasta un numero antes\n",
    "      if i % 3 == 0: #si al dividir 'i' entre 3, el residuo da cero, significa que 'i' es multiplo de 3\n",
    "          c += 1 #se le suma 1 al contador\n",
    "          M3.append(i) #Como i es multiplo de 3 entonces se agrega a la lista\n",
    "          if c == 15: #Cuando 'c' es igual a 15 quiere decir que ya se hallaron los primero 15 multiplos de 3\n",
    "              i +=1 #'i' queda con el valor del último multiplo de 3 encontrado, y se le suma 1 para que al empezar a buscar los multiplos de cuatro, empiece desde el siguiete número\n",
    "              break\n",
    "for j in range(i,101): #j va atomar cada valor desde 'i' hasta 100\n",
    "    if j % 4 == 0: \n",
    "        M4.append(j)\n",
    "print(f'Los múltiplos de 3 son {M3} y los múltiplos de 4 son {M4}')"
   ]
  },
  {
   "cell_type": "code",
   "execution_count": null,
   "metadata": {},
   "outputs": [],
   "source": [
    "Ejercicio 9"
   ]
  },
  {
   "cell_type": "code",
   "execution_count": 24,
   "metadata": {},
   "outputs": [
    {
     "name": "stdout",
     "output_type": "stream",
     "text": [
      "Digite coordenada en X, coordenada en Y y radio de el primer           círculo (X,Y,R)= (1,2,6)\n",
      "Digite coordenada en X, coordenada en Y y radio de el                 segundo círculo (X,Y,R)= (2,5,8)\n",
      "Digite un punto de coordenadas(a,b)= (-2,-6)\n",
      "El punto (-2, -6) está fuera de ambos círculos\n"
     ]
    }
   ],
   "source": [
    "#9. Hacer un programa que lea las coordenadas (x1,y1,r1) y (x2,y2,r2) que corresponden al centro y al radio de dos círculos. Lea un punto de coordenadas (a,b). Determina si (a,b) está contenido: a) dentro del círculo 1; b) dentro del círculo 2; c) dentro de ambos círculos; d) fuera de ambos círculos. Recordemos que el círculo es el lugar geométrico de los puntos del plano cuya distancia a otro punto fijo, llamado centro, es menor o igual que una cantidad constante, llamada radio.\n",
    "#Ejemplo de ingresar datos: (1,2,6) \n",
    "from math import hypot # se importa hypot de math, el cual va a servir para calcular la distancia entre dos puntos del plano\n",
    "C1 = eval(input('Digite coordenada en X, coordenada en Y y radio de el primer\\\n",
    "           círculo (X,Y,R)= ')) #Se pide al usuario que digite la coordenado en x y y del centro del primer círculo y su radio, esto entre paréntesis y separado con comas, y con eval identifica lo ingresado como una tupla\n",
    "C2 = eval(input('Digite coordenada en X, coordenada en Y y radio de el\\\n",
    "                 segundo círculo (X,Y,R)= ')) #Se pide al usuario que digite la coordenado en x y y del centro del segundo círculo y su radio, esto entre paréntesis y separado con comas, y con eval identifica lo ingresado como una tupla\n",
    "P = eval(input('Digite un punto de coordenadas(a,b)= ')) #se pide al usuario ingresar las coordenadas de un punto en el plano, estas entre paréntesis y separadas con comas, y eval identifica lo ingresado como una tupla\n",
    "\n",
    "x1 = C1[0] #se guardaen x1 la coordenada en x del centro del primer círculo\n",
    "y1 = C1[1]#se guardaen y1 la coordenada en y del centro del primer círculo\n",
    "r1 = C1[2]#se guardaen r1 el radio del primer círculo\n",
    "x2 = C2[0] #se guardaen x2 la coordenada en x del centro del segundo círculo\n",
    "y2 = C2[1]#se guardaen y2 la coordenada en y del centro del segundo círculo\n",
    "r2 = C2[2] #se guardaen r2 el radio del segundo círculo\n",
    "a = P[0] # se guarda en la variable a, la coordenada en x del punto ingresado\n",
    "b = P[1] # se guarda en la variable b, la coordenada en y del punto ingresado\n",
    "d1 = hypot(a-x1, b-y1) # d1 va a coontener la distacia entre el el punto P y el centro del primer círculo. Que es la raíz cuadra de la diferencia de las abscisas del puntos elevada al cuadrado más la diferencia de las ordenadas elevada al cuadrado\n",
    "d2 = hypot(a-x2, b-y2) #d1 va a coontener la distacia entre el el punto P y el centro del segundo círculo.\n",
    "if d1 <= r1 and d2 > r2: #si d1 es menor o igual a r1, y d2 es mayor a r2, quiere decir que P está solo dentro del primer circulo\n",
    "    print(f'El punto {P} está solo contenido en el primer círculo')\n",
    "if d1 > r1 and d2 <= r2: # d1 es mayor a r1 y d2 es menor a igual a r2, quiere decir que P está solo dentro de el segundo círculo\n",
    "    print(f'El punto {P} está solo contenido en el segundo círculo')\n",
    "if d1 <= r1 and d2 <= r2: #si d1 es menor o igual que r1 y d2 es menor o igual que r2, quiere decir que P está dentro de ambos círculos\n",
    "    print(f'El punto {P} está contenido en ambos círculos')\n",
    "if d1 > r1 and d2 > r2: #si d1 es mayor a r1 y d2 es mayor a r2, quiere decir que P está fuera de ambos círculos\n",
    "    print(f'El punto {P} está fuera de ambos círculos')"
   ]
  },
  {
   "cell_type": "code",
   "execution_count": null,
   "metadata": {},
   "outputs": [],
   "source": [
    "Ejercicio 10"
   ]
  },
  {
   "cell_type": "code",
   "execution_count": 25,
   "metadata": {},
   "outputs": [
    {
     "name": "stdout",
     "output_type": "stream",
     "text": [
      "Escriba una cadena de texto= juan esteban\n",
      "JUAN ESTEBAN"
     ]
    }
   ],
   "source": [
    "#10. Sin utilizar el método .upper() para cadenas, escribir un programa que lea una cadena de texto y la imprima en mayúscula. Tenga en cuenta que el programa debe aceptar las letras con tilde, la ñ y la ü.\n",
    "M = [] # lista vacia que va a guarda las letras en mayuscula\n",
    "w = input('Escriba una cadena de texto= ') #Se solicita al usuario ingresar una cadena de texto\n",
    "L = list(w) #la cadena ingresada se convierte a una lista, en esa lista va a estar guardado como un elemento, cada caracter de la cadena de texto(incluidos los espacios)\n",
    "for i in L: # i va a tomar cada el valor de cada elemento en la lista, que son letras, o espacios\n",
    "    if i != ' ': #si i es diferente a un espacio\n",
    "        a = i.title() #aquí i va a ser una letra de la cadena ingresada, con el comando title se vuelve a mayuscula esa letra y si ya está en mayuscula, se deja igual, luego la letra en mayuscula se guarda en la lista M\n",
    "        M.append(a)\n",
    "    if i == ' ':# si i es un espacio \n",
    "        M.append(' ') #ese espacio se agrega a la lista M para que no se altere el orden de las palabras de la cadena ingresada\n",
    "for j in M: # j va a tomar cada valor de la lista M, esto sirve para poder sacar en pantalla el contenido de la lista M, la cual contiene la cadena ingresada pero con letras en mayúsculas\n",
    "    print(j,end='') #se saca en pantalla el contenido de M en una sola linea"
   ]
  },
  {
   "cell_type": "code",
   "execution_count": null,
   "metadata": {},
   "outputs": [],
   "source": [
    "Ejercicio 11"
   ]
  },
  {
   "cell_type": "code",
   "execution_count": 26,
   "metadata": {},
   "outputs": [
    {
     "name": "stdout",
     "output_type": "stream",
     "text": [
      "Digite una cadena de texto= 123 JAein áéí esteban\n",
      "Se entró 1 letra vocal en mayúscula\n",
      "Se entraron 3 letras con tilde (minúsculas y mayúsculas)\n",
      "Se entraron 3 dígitos\n",
      "Se entraron 3 espacios\n",
      "Se ingresaron 0 palabras reservadas\n"
     ]
    }
   ],
   "source": [
    "#11. Escribir un programa que reciba una cadena de texto y reporte:\n",
    "#a) cuántas letras vocales en mayúscula se entraron;\n",
    "#b) cuántas letras con tilde se entraron (minúsculas y mayúsculas);\n",
    "#c) cuántos dígitos se entraron,\n",
    "#d) cuántos espacios se entraron;\n",
    "#e) cuántas palabras reservadas se entraron.\n",
    "v = ['A','E','I','O','U','Á','É','Í','Ó','Ú','Ü'] #Lista que vocales en mayúscula con tilde y Ü\n",
    "t = ['Á','É','Í','Ó','Ú','á','é','í','ó','ú','Ý','ý']#Lista con las letras mayusculas y minusculas que se dejan ingresar con tilde\n",
    "g = ['0','1','2','3','4','5','6','7','8','9'] #lista con todos los digitos\n",
    "p = ['False','None','True','and','as','assert','async','await','break','class',\\\n",
    "     'continue','def','del','elif','else','except','finally','for','from',\\\n",
    "     'global','if','import','in','is','lambda','nonlocal','not','or','pass',\\\n",
    "     'raise','return','try','while','with','yield']#lista con las palacras reservadas de python\n",
    "s = [] #lista que va a guardar las vocales en mayúscula  entradas\n",
    "a = []#lista que va a guardar las letras con tilde  entradas, tanto mayusculas como minusculas \n",
    "d = [] #lista que va a guardar los digitos entrados\n",
    "e = [] #lista que va a contener la cantidad de espacios entradas\n",
    "r = [] #lista que va a contener las palabras reservadas entradas\n",
    "w = input('Digite una cadena de texto= ') # se pide al usuario que digite una cadena que luego se guarda en w\n",
    "n = list(w) #se convierte w en una lista, por ello cada caracter de la cadena digitada se vuelve un elemento de la lista\n",
    "for i in n: # se itera en la lista n que contiene a la cadena digitada\n",
    "    if i in v: #si el valor que toma i esta en la lista v entonces i es una letra vocal en mayuscula\n",
    "        s.append(i) #Se agrega la vocal en mayuscula a la lisa s\n",
    "if len(s) == 1: # se la lista s solo tiene un elemento hacer la siguiente accion\n",
    "    print(f'Se entró {len(s)} letra vocal en mayúscula')\n",
    "else:\n",
    "    print(f'Se entraron {len(s)} letras vocales en mayúscula')\n",
    "for i in n:\n",
    "    if i in t: # si el valor que toma i está en t, quiere decir que i es una letra con tilde\n",
    "        a.append(i) #se guarda la letra con tilde en la lista a\n",
    "if len(a) == 1:\n",
    "    print(f'Se entró {len(a)} letra con tilde (minúscula o mayúscula)')\n",
    "else: \n",
    "    print(f'Se entraron {len(a)} letras con tilde (minúsculas y mayúsculas)')\n",
    "for i in n:\n",
    "    if i in g: #si el valor que toma i esta en g, quiere decir que i es un digito\n",
    "        d.append(i) # se guara el digito\n",
    "if len(d) == 1:\n",
    "    print(f'Se entró {len(d)} dígito')\n",
    "else:\n",
    "    print(f'Se entraron {len(d)} dígitos')\n",
    "for i in n:\n",
    "    if i == ' ': # si el valor que tomó i es un espacio\n",
    "        e.append(i) #se guarda el valor que tomó i en la lista e\n",
    "if len(e) == 1:\n",
    "    print(f'Se entró {len(e)} espacio')\n",
    "else:\n",
    "    print(f'Se entraron {len(e)} espacios')\n",
    "b = w.split() #para que se reconozca que se digitó una palabra reservada, es necesario guardar la palabra junta como un elemento una lista\n",
    "for i in b: #se itera a traves de la lista b\n",
    "    if i in p: # si el valor que tomó i está en p, quiere decir que i es una palabra reservada\n",
    "        r.append(i) # se guarda la palabra reservada\n",
    "if len(r) == 1:\n",
    "    print(f'Se ingresó {len(r)} palabra reservada')\n",
    "else:\n",
    "    print(f'Se ingresaron {len(r)} palabras reservadas')"
   ]
  },
  {
   "cell_type": "code",
   "execution_count": null,
   "metadata": {},
   "outputs": [],
   "source": [
    "Ejercicio 12"
   ]
  },
  {
   "cell_type": "code",
   "execution_count": 27,
   "metadata": {},
   "outputs": [
    {
     "name": "stdout",
     "output_type": "stream",
     "text": [
      "Digite la primera palabra= rápido\n",
      "Digite la segunda palabra= furioso\n",
      "La palabra furioso está primero en el diccionario que rápido \n"
     ]
    }
   ],
   "source": [
    "#12. Hacer un programa que lea dos palabras (podrían estar en mayúscula o minúscula) y determine cual está primero en el diccionario. El programa debe soportar letras con tilde, la ü y la ñ.\n",
    "P1 = input('Digite la primera palabra= ') #se pide al usuario que digite la primera palabra y se guarda en P1\n",
    "P2 = input('Digite la segunda palabra= ') #se pide al usuario que digite la segunda palabra y se gaurda en P2\n",
    "m1 = P1.lower() #se pasan todas las letras de la palabra 1 a minúsculas y se guardan en m1\n",
    "m2 = P2.lower() #se pasan todas las letras de la palabra 2 a minúsculas y se guardan en m2\n",
    "l1 = list(m1) #se convierte m1 a una lista\n",
    "l2 = list(m2) #se convierte m2 a una lista\n",
    "x=0 #esta variable va a servir para poder iterar a través de la lista l1 y l2, las cuales contienen los caracteres de las palabras ingresadas. la variable x va a indicar la posicion en las listas\n",
    "while(x<len(l1)): #mientras x sea menor a la longitud de la lista l1 se entra al ciclo. Esto para evitar que se pida buscar algo en la lista en una posicion que no existe\n",
    "    if  l1[x]=='á' : #Se empieza a iterar a través de la lista l1, y se empieza a reemplazar las vocales con tilde que pueda tener la palabra 1, con la misma vocal pero sin tilde\n",
    "        l1[x]='a'\n",
    "    if  l1[x]=='é' :\n",
    "        l1[x]='e'\n",
    "    if  l1[x]=='í' :\n",
    "        l1[x]='i'\n",
    "    if  l1[x]=='ó' :\n",
    "        l1[x]='o'\n",
    "    if (l1[x]=='ú' or l1[x]== 'ü') : # la ú y la ü se reemplazan por la u\n",
    "        l1[x]='u'\n",
    "    if  l1[x]=='ñ' : # la letra ñ se reemplaza por la n\n",
    "        l1[x]='n'\n",
    "    x +=1 # se le suma 1 a la x al terminar cada ciclo para que se busque en la siguiente posicion de la lista l1\n",
    "x=0 # inicializa x en cero para hacer el mismo proceso anterior pero para la palabra 2\n",
    "while x<len(l2):  #mientras x sea menor a la longitud de la lista l2 se entra al ciclo. Esto para evitar que se pida buscar algo en la lista en una posicion que no existe\n",
    "    if  l2[x]=='á' :  #Se empieza a iterar a través de la lista l2, y se empieza a reemplazar las vocales con tilde que pueda tener la palabra 2, con la misma vocal pero sin tilde\n",
    "        l2[x]='a'\n",
    "    if  l2[x]=='é' :\n",
    "        l2[x]='e'\n",
    "    if  l2[x]=='í' :\n",
    "        l2[x]='i'\n",
    "    if  l2[x]=='ó' :\n",
    "        l2[x]='o'\n",
    "    if (l2[x]=='ú' or l2[x]== 'ü' ):\n",
    "        l2[x]='u'\n",
    "    if  l2[x]=='ñ' :\n",
    "        l2[x]='n'\n",
    "    x +=1 # se le suma 1 a la x al terminar cada ciclo para que se busque en la siguiente posicion de la lista l2\n",
    "\n",
    "x=0 # Variable de control de ciclo\n",
    "encontro=\"no\" # Variable de control para determinar si encontro cual palabra va primero que la otra\n",
    "if len(l2)<len(l1): # se pregunta cuál de las 2 palabras tiene menos caracteres\n",
    "    maximo=len(l2) \n",
    "else:\n",
    "     maximo=len(l1)   \n",
    "while x<maximo: #se empieza desde cero hasta la cantidad de letras que tenga la pabra con menor cantidad\n",
    "    n1 = ord(l1[x]) #se ejecuta el comando ord para saber cual es el valor de cada caracter, para la palabra 1\n",
    "    n2= ord(l2[x]) #se ejecuta el comando ord para saber cual es el valor de cada caracter, para la palabra 2\n",
    "    if (n1==n2): #si son iguales significa que hay que buscar otra letra para saber si hay diferencias\n",
    "        x +=1 \n",
    "    else: #si no son iguales\n",
    "        if n1 > n2: #si la letra de la palabra 1 tiene mayor ord, significa que va primero\n",
    "            print(f'La palabra {P2} está primero en el diccionario que {P1} ')\n",
    "            x =maximo+1\n",
    "            encontro=\"si\"\n",
    "        else: #sino es que la palabra 2 tiene mayor ord\n",
    "            print(f'La palabra {P1} está primero en el diccionario que {P2} ')\n",
    "            x =maximo+1\n",
    "            encontro=\"si\"\n",
    "\n",
    "if(encontro==\"no\"): #si no encontró respuesta significa que tienen las mismas letras ambas palabras\n",
    "    if len(l2)<len(l1): #se pregunta cual de las dos palabras tiene más letras, y la que tenga menos letras es la que va primero\n",
    "        print(f'La palabra {P2} está primero en el diccionario que {P1} ')\n",
    "    else:\n",
    "        print(f'La palabra {P1} está primero en el diccionario que {P2} ') \n",
    "   "
   ]
  },
  {
   "cell_type": "code",
   "execution_count": null,
   "metadata": {},
   "outputs": [],
   "source": [
    "Ejercicio 13"
   ]
  },
  {
   "cell_type": "code",
   "execution_count": 29,
   "metadata": {},
   "outputs": [
    {
     "name": "stdout",
     "output_type": "stream",
     "text": [
      "Digite una cadena de texto= Como podemos ver, Jupyter es una herramienta bastante completa, que nos permite crear documentos que combinen código ejecutable, representaciones gráficas de su ejecución y texto plano. También es muy sencillo de utilizar (siempre y cuando ya sepas programar en Python, claro), así que ¿a qué e\n",
      "              C              \n",
      "             omo             \n",
      "            podem            \n",
      "           osver,J           \n",
      "          upyteresu          \n",
      "         naherramien         \n",
      "        tabastantecom        \n",
      "       pleta,quenosper       \n",
      "      mitecreardocument      \n",
      "     osquecombinencódigo     \n",
      "    ejecutable,representa    \n",
      "   cionesgráficasdesuejecu   \n",
      "  ciónytextoplano.Tambiénes  \n",
      " muysencillodeutilizar(siemp \n",
      "reycuandoyasepasprogramarenPy\n",
      "   thon,claro),asíque¿aquée  \n"
     ]
    }
   ],
   "source": [
    "#13.Escribir un programa que lea una cadena de texto y la imprima como un triángulo.\n",
    "C = input('Digite una cadena de texto= ') #se captura la cadena de texto\n",
    "while ' ' in C: #mientras espacio esté en C\n",
    "   C = C.replace(' ','') #se quita el espacio\n",
    "   C=C.replace('\\n','') #se quitan los enter de la cadena de texto ingresada\n",
    "x = 0 #variable de control de ciclo\n",
    "maximo=0 #Variable para saber el indice máximo del caracter de la cadena\n",
    "respuesta=[] #lista con los caracteres corespondientes a cada linea\n",
    "num=3 # Variable para saber cuantos caracteres tiene cada linea\n",
    "while x <= len(C) - 1: #ciclo que hasta la longitud de la cadena menos 1\n",
    "    if x==0: #Cuando empieza el ciclo se toma el primer caracter     \n",
    "        respuesta.append(C[x])\n",
    "        x+=1\n",
    "    else: \n",
    "        maximo=x+num #maximo es igual a x más la cantidad de caracteres que es num   \n",
    "        respuesta.append(C[x:maximo]) #adicionamos los caracteres desde un minimo x hasta un maximo\n",
    "        x=maximo #se cambia el valor de x por el valor maximo\n",
    "        num=num+2 #se aumenta los caracteres para la siguiente linea\n",
    "lineas=len(respuesta) #se obtiene la cantidad e lineas que tuvo el arbol\n",
    "if len(respuesta[lineas-1])<len(respuesta[lineas-2]): #Se utiliza para saber si se genera con la frase ingresada un tringulo perfecto\n",
    "    centro=len(respuesta[lineas-2]) #para tomar el centro del triangulo\n",
    "else: \n",
    "    centro=len(respuesta[lineas-1]) #para tomar el centro del triangulo\n",
    "    \n",
    "x=0 \n",
    "while x<len(respuesta): #se recorre la lista para imprimirla por pantalla\n",
    "    i = respuesta[x]  \n",
    "    print(i.center(centro))\n",
    "    x+=1"
   ]
  },
  {
   "cell_type": "code",
   "execution_count": null,
   "metadata": {},
   "outputs": [],
   "source": [
    "Ejercicio 14"
   ]
  },
  {
   "cell_type": "code",
   "execution_count": 31,
   "metadata": {},
   "outputs": [
    {
     "name": "stdout",
     "output_type": "stream",
     "text": [
      "Digite una cadena de texto= Juan Esteban Barco\n",
      "aaabbceejnnorstu\n"
     ]
    }
   ],
   "source": [
    "#14. Leer una cadena de texto y organice alfabéticamente cada una de las letras que la componen, repitiendo cada una tantas veces como se encuentra. Por ejemplo, la cadena ‘tarea importante’ será ‘aaaeeimnoprrttt’. (Note que no se incluyen los espacios).\n",
    "a = ['a','b','c','d','e','f','g','h','i','j','k','l','m','n','ñ','o','p','q',\\\n",
    "     'r','s','t','u','v','w','x','y','z'] # lista con el abecedario\n",
    "b =[] #lista que va a guardar las letras minusculas y sin tilde en orden alfabetico\n",
    "c = list(input('Digite una cadena de texto= ').lower())#se pide al usuario que digite una cadena y luego esta se convierte a lista\n",
    "\n",
    "for i in a: #se itera a traves de la lista con el alfabeto\n",
    "    for j in c: #se itera a traves de la lista con la cadena digitada por el usurio\n",
    "        if i == j: #Se va a empezar en orden alfabetico a comparar las letras\\\n",
    "                         # que toma i, con las que toma j, # por ejemplo al principio\\\n",
    "                         #i toma el valor de 'a', luego entra al otro ciclo for, y se va\\\n",
    "                         #a comparar cada valor de la lista 'c' con el valor de 'a', si hay\\\n",
    "                         #alguno que sea 'a' entonces se va a guardar en la lista, despues de\\\n",
    "                         #terminar se sale del ciclo interno y se entra al ciclo externo, y la i toma el valor de b, y así sucesivamente\n",
    "            b.append(j)#si las letras son iguales se va a ir guardando en la lista b, y van a ir siendo guardadas en orden alfabetico\n",
    "r = ''.join(b) #se escriben los elementos de la lista b como una cadena\n",
    "print(r)"
   ]
  },
  {
   "cell_type": "code",
   "execution_count": null,
   "metadata": {},
   "outputs": [],
   "source": [
    "Ejercicio 15"
   ]
  },
  {
   "cell_type": "code",
   "execution_count": 32,
   "metadata": {},
   "outputs": [
    {
     "name": "stdout",
     "output_type": "stream",
     "text": [
      "Digite una lista de números enteros= [1,1,2,2,-5,-5]\n",
      "Los números repetidos exactamente 2 veces son [-5, 1, 2]\n"
     ]
    }
   ],
   "source": [
    "#15. Leer una lista de números enteros y enumerar cuantos elementos se repiten exactamente dos veces. Utilizar para tal fin el método count() de listas.\n",
    "#Ejemplo de ingresar datos: [1,1,2,2,-5,-5]\n",
    "n =[]\n",
    "L = eval(input('Digite una lista de números enteros= '))\n",
    "if type(L) == list:\n",
    "    for i in L:\n",
    "        if L.count(i) == 2 and i not in n:\n",
    "            n.append(i)\n",
    "    \n",
    "    n.sort()\n",
    "    \n",
    "    print(f'Los números repetidos exactamente 2 veces son {n}')\n",
    "else:\n",
    "    print('Sólo digitar listas')"
   ]
  },
  {
   "cell_type": "code",
   "execution_count": null,
   "metadata": {},
   "outputs": [],
   "source": [
    "Ejercicio 16"
   ]
  },
  {
   "cell_type": "code",
   "execution_count": 33,
   "metadata": {},
   "outputs": [
    {
     "name": "stdout",
     "output_type": "stream",
     "text": [
      "Digite una lista de números ordenados de forma ascendente= [-1,0,1,3,4,10]\n",
      "La lista [-1, 0, 1, 3, 4, 10] está ordenada\n",
      "Digite un número= 5\n",
      "La lista es [-1, 0, 1, 3, 4, 5.0, 10]\n"
     ]
    }
   ],
   "source": [
    "#16. Leer una lista de números ya ordenados de forma ascendente y verificar que dicha lista está ordenada. Luego, leer un número e insertarlo en la lista en la posición que le corresponde a dicho número.\n",
    "#Ejemplo de cómo ingresar datos: [-1,0,1,3,4,10] enter 5\n",
    "n = eval(input('Digite una lista de números ordenados de forma ascendente= ')) #el usuario digita una lista, y con eval el programa la toma como tal\n",
    "r = sorted(n) #se creo una copia de la lista ordenada de forma ascendente\n",
    "if n == r:#si la lista ya esta ordenada\n",
    "    print(f'La lista {n} está ordenada') #se escribe esto\n",
    "else:#si la lista no esta ordenada\n",
    "    print(f'La lista {n} no está ordena') #se escribe esto\n",
    "    print(f'La lista ordena es {r}') #se dice que la lista ordenada es r\n",
    "    n.sort() #en caso de que la lista digitada no esta ordenada, aqui se ordena\n",
    "u = input('Digite un número= ') #se pide digitar un numero\n",
    "a = float(u)#el numero digitado se vuelve flotante\n",
    "n.append(a) #se le agrega el número a la lista\n",
    "n.sort()#se vuelve a ordenar la lista ya con el número digitado\n",
    "print(f'La lista es {n}')#se muestra la lista\n"
   ]
  },
  {
   "cell_type": "code",
   "execution_count": null,
   "metadata": {},
   "outputs": [],
   "source": [
    "Ejercicio 17"
   ]
  },
  {
   "cell_type": "code",
   "execution_count": 34,
   "metadata": {},
   "outputs": [
    {
     "name": "stdout",
     "output_type": "stream",
     "text": [
      "Digite una lista únicamente de números= [0,1,2,-10,20,30]\n",
      "El segundo numero mayor es :  20\n"
     ]
    }
   ],
   "source": [
    "#17. Leer una lista y determinar cuál es el segundo elemento más grande de dicha lista. No utilice ningún tipo de algoritmo de ordenamiento para realizar este ejercicio.\n",
    "#Ejemplo de cómo ingresar datos: [0,1,2,-10,20,30]\n",
    "n = eval(input('Digite una lista únicamente de números= ')) #Se captura la lista de números ingresada\n",
    "maximo=n[0] #tomamos como valor máximo el primer elemento de la lista\n",
    "segundo=-900000000000000000000000 #colocamos un número muy grande inferior para el segundo\n",
    "x=1 #variable de control de ciclo, comienza en 1 porque ya estamos tomando el primer elemento en la variable maximo\n",
    "while  x<len(n): #ciclo que va hasta la cantidad de elementos de la lista\n",
    "    nume=n[x] #se  toma el numero en la posicion x de la lista\n",
    "    if nume> maximo: #se pregunta si ese numero es mayor al maximo\n",
    "        segundo=maximo #si si es mayor se reemplaza segundo por el valor que tenga maximo\n",
    "        maximo=n[x] #y maximo se cambia por el valor que tenga la lista en la posicion x\n",
    "    else: #sino \n",
    "        if nume>segundo: #se pregunta, si nume es mayor a segundo\n",
    "            segundo=n[x] #si si es mayor, se reemplaza el valor de segundo\n",
    "    x+=1\n",
    "print(\"El segundo numero mayor es : \",segundo)  "
   ]
  },
  {
   "cell_type": "code",
   "execution_count": null,
   "metadata": {},
   "outputs": [],
   "source": [
    "Ejercicio 18"
   ]
  },
  {
   "cell_type": "code",
   "execution_count": 35,
   "metadata": {},
   "outputs": [
    {
     "name": "stdout",
     "output_type": "stream",
     "text": [
      "Digite una matriz cuadrada= [[1,2,3],[-1,10,20],[55,24,10]]\n",
      "[1, 2, 3]\n",
      "[0, 10, 20]\n",
      "[0, 0, 10]\n",
      "La fila [1, 2, 3] es la que contiene mayor cantidad de  unos\n"
     ]
    }
   ],
   "source": [
    "#18. Leer una matriz cuadrada A, obtener su matriz triangular superior asociada U y determinar qué fila de U contiene la mayor cantidad de unos.\n",
    "#Ejemplo cómo ingresar datos: [[1,2,3],[-1,10,20],[55,24,10]]\n",
    "import copy #se importa para copiar más adelante las matrices\n",
    "u = [] # una lista vacia que va a guardar mas adelante las longitudes de las filas de la matriz que se le extrajeron los números 1\n",
    "A = eval(input('Digite una matriz cuadrada= ')) #se pide digitar un matriz caudrada, y con eval el programa identifica que lo que se digita son listas\n",
    "for i in range(len(A)) : # i va a tomar valores desde 0 hasta el número de filas de la matriz. Estos ciclos for permiter recorrer la matriz\n",
    "    for j in range(len(A)): # j va a tomar valores desde 0 hata el número de columnas de la matriz, que en este caso es igual al número de filas porque A es una matriz cuadrada\n",
    "        if i > j: # donde i es mayor a j, indica los elementos debajo de la diagonal de la matriz\n",
    "            A[i][j] = 0 # Aquí se indican los elementos debajo de la diagonal de la matriz, y estos se van haciendo igual a cero\n",
    "B = copy.deepcopy(A) #se hace una copia de la matriz A. Esta nueva matriz va a servir para indicar en pantalla que fila es la que tiene mayor cantidad de unos\n",
    "U= copy.deepcopy(A) # Se hace otra copia de A y se llama U porque el ejercicio así lo pide\n",
    "\n",
    "for fila in U: # con este ciclo for se sacar en pantalla a la matriz U que es la matriz triangular superior de la matriz A\n",
    "    print(fila)\n",
    "for fila in U: #se va a iterar a traves de las filas de la matriz U\n",
    "       while 1 in fila: # si el número 1 está en la variable fila, se entra al ciclo. Lo que se va a hacer es remover los números 1 de las filas de la matriz U, y como cada fila tiene la misma cantidad de elementos, al final la fila con menos elementos va a ser la que tenía más números 1\n",
    "           fila.remove(1) #se remueve el número 1 de la variable fila\n",
    "for k in U: #se itera a traves de U\n",
    "    u.append(len(k))#se van a ir guardando las longitudes de cada una de las filas de la matriz U\n",
    "l_menor = min(u) #se busca el menor número en la lista u, que va a indicar la fila con menos elementos de la matriz U\n",
    "indice= u.index(l_menor) #Se busca la posicion en u del menor elemento, el cual coincide con la fila con menos elementos de la matriz U\n",
    "f_may= B[indice] #se busca en la matriz B la posicion de la fila con menos elementos de la matriz U\n",
    "print(f'La fila {f_may} es la que contiene mayor cantidad de  unos') # se indica en pantalla cual es la fila de la matriz U que tenía mas cantidad de unos\n",
    "    "
   ]
  },
  {
   "cell_type": "code",
   "execution_count": null,
   "metadata": {},
   "outputs": [],
   "source": [
    "Ejercicio 19"
   ]
  },
  {
   "cell_type": "code",
   "execution_count": 36,
   "metadata": {},
   "outputs": [
    {
     "name": "stdout",
     "output_type": "stream",
     "text": [
      "Digite una lista de números= [1,2,3,4,-1,-2,-3,1,2,3]\n",
      "[1, 2, 3, 4]\n"
     ]
    }
   ],
   "source": [
    "#19. Leer una lista e identifique la sublista más larga dentro de dicha lista que se encuentra ordenada ascendentemente. Por ejemplo, en la lista [5, 6, 5, 1, 2, 6, 9, 2, 4, 1] la mayor sublista ordenada es la [1, 2, 6, 9].\n",
    "#Ejemplo de cómo ingresar datos: [1,2,3,4,-1,-2,-3,1,2,3]\n",
    "import copy\n",
    "lista = [] #almacena las sublistas\n",
    "L = eval(input('Digite una lista de números= ')) #se almacena la lista digitada en la variable L\n",
    "x = 0 #variable de control de ciclo\n",
    "l2=[] #lista auxiliar\n",
    "ya =\"no\" #variable de control para saber si ya se agregó un digito a la lista\n",
    "while x < (len(L)-1): #ciclo que va hata la cantidad de la lista menos 1\n",
    "    a = L[x] #se toma el primer número\n",
    "    if(ya==\"no\"): #se pregunta si ya se agregó a la lista\n",
    "        l2.append(a) #lo agregamos a la lista\n",
    "    if a < L[x+1]: #se pregunta el número siguiente a la posicion de la lista si es mayor al numero anterior\n",
    "        l2.append(L[x+1]) #si si es mayor lo agregamos\n",
    "        ya=\"si\" #se cambia que ya se agregó a la lista\n",
    "    else: \n",
    "        l3=[] #se crea una lista auxiliar\n",
    "        l3.clear() #se borra esa lista para evitar valores antiguos\n",
    "        l3=copy.deepcopy(l2) #se copia la lista auxiliar L2\n",
    "        lista.append(l3) #se agrega la lista auxiliar L3 a la lsita de resultados\n",
    "        l2.clear() #se borra la lista L2\n",
    "        ya =\"no\" #se cambia el estado de la variable auxiliar\n",
    "    x+=1\n",
    "        \n",
    "x = 0 \n",
    "identificador=0\n",
    "while x < (len(lista)-1): #se recorre la lista de respuesta para saber cuál tiene la mayor sublista\n",
    "    if  (len(lista[x])<len(lista[x+1])):\n",
    "        identificador=x+1\n",
    "    x+=1\n",
    "print(lista[identificador])"
   ]
  },
  {
   "cell_type": "code",
   "execution_count": null,
   "metadata": {},
   "outputs": [],
   "source": [
    "Ejercicio 20 parte a"
   ]
  },
  {
   "cell_type": "code",
   "execution_count": 37,
   "metadata": {},
   "outputs": [
    {
     "name": "stdout",
     "output_type": "stream",
     "text": [
      "Digite un matriz= [[1,2,3],[4,5,6]]\n",
      "La matriz rotada es:\n",
      "[3, 6]\n",
      "[2, 5]\n",
      "[1, 4]\n"
     ]
    }
   ],
   "source": [
    "#20.a. Hacer un programa que lea una matriz y la rote 90 grados en sentido antihorario. Imprimir la matriz resultante.\n",
    "#Ejemplo de cómo ingresar datos: [[1,2,3],[4,5,6]]\n",
    "R = [] #va a contener las columnas de la matriz M\n",
    "M = eval(input('Digite un matriz= ')) #se guarda la matriz ingresada en la variable M\n",
    "j = len(M[0])-1 #la variable j toma el valor de el número de columnas de la matriz menos 1\n",
    "i = 0 #Va tomar los valores de las posiciones de las filas de la matriz M\n",
    "a = [] \n",
    "while j >= 0: #el ciclo se utiliza para recorrer la matriz M verticalmente empezando desde la última columna\n",
    "    while i <= (len(M)-1):\n",
    "        a.append(M[i][j]) #se agrega en la lista 'a' los elementos de la matriz M\n",
    "        if i == (len(M)-1): #si i toma ese valor es porque ya se recorrio la primera columna de M\n",
    "            R.append(a) #se vab agragegando las columnas de M a la variable R\n",
    "            a = [] #se vacia la variable a\n",
    "            a.clear() #se elimina el contenido de la variable para evitar datos antiguos\n",
    "        i+=1\n",
    "    i = 0 #se inicializa la variable para repetir el proceso y guardar la siguiente columna de M\n",
    "    j-=1 \n",
    "print('La matriz rotada es:')\n",
    "for fila in R: #se itera a través de R y se van imprimiendo las filas\n",
    "    print(fila)"
   ]
  },
  {
   "cell_type": "code",
   "execution_count": null,
   "metadata": {},
   "outputs": [],
   "source": [
    "Ejercicio 20 parte b"
   ]
  },
  {
   "cell_type": "code",
   "execution_count": 38,
   "metadata": {},
   "outputs": [
    {
     "name": "stdout",
     "output_type": "stream",
     "text": [
      "Digite un matriz=  [[1,2,3],[4,5,6]]\n",
      "La matriz rotada es:\n",
      "[3 6]\n",
      "[2 5]\n",
      "[1 4]\n"
     ]
    }
   ],
   "source": [
    "# 20.b. Repita el mismo ejercicio utilizando el módulo numpy.\n",
    "#Ejemplo de cómo ingresar datos: [[1,2,3],[4,5,6]]\n",
    "import numpy #se importa la librería numpy\n",
    "M = eval(input('Digite un matriz= ')) #se guarda la matriz ingresada en la variable M\n",
    "ma=numpy.array(M) #se transforma la matrix entrante por un numpy.array\n",
    "matrisR=numpy.rot90(ma) #se rota la matriz 90 grados con el comando numpy.rot90\n",
    "print('La matriz rotada es:') \n",
    "for fila in matrisR: #imprimimos la matriz resultante en pantalla\n",
    "    print(fila)"
   ]
  },
  {
   "cell_type": "code",
   "execution_count": null,
   "metadata": {},
   "outputs": [],
   "source": []
  }
 ],
 "metadata": {
  "kernelspec": {
   "display_name": "Python 3",
   "language": "python",
   "name": "python3"
  },
  "language_info": {
   "codemirror_mode": {
    "name": "ipython",
    "version": 3
   },
   "file_extension": ".py",
   "mimetype": "text/x-python",
   "name": "python",
   "nbconvert_exporter": "python",
   "pygments_lexer": "ipython3",
   "version": "3.7.3"
  }
 },
 "nbformat": 4,
 "nbformat_minor": 2
}
